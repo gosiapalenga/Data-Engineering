{
 "cells": [
  {
   "cell_type": "code",
   "execution_count": 40,
   "id": "9405d326",
   "metadata": {},
   "outputs": [],
   "source": [
    "import boto3\n",
    "import json\n",
    "import psycopg2\n",
    "import pandas as pd\n",
    "import configparser\n",
    "\n",
    "from botocore.exceptions import ClientError\n",
    "%load_ext sql"
   ]
  },
  {
   "cell_type": "markdown",
   "id": "fbf53c66",
   "metadata": {},
   "source": [
    "### 1. Read AWS parameters"
   ]
  },
  {
   "cell_type": "code",
   "execution_count": 23,
   "id": "0c90aaaf",
   "metadata": {},
   "outputs": [],
   "source": [
    "config= configparser.ConfigParser()\n",
    "config.read_file(open('dwh.cfg'))\n",
    "\n",
    "ACCESS_KEY  = config.get('default','aws_access_key_id')\n",
    "SECRET_KEY  = config.get('default','aws_secret_access_key')\n",
    "\n",
    "\n",
    "BUCKET_NAME  = config.get('S3','BUCKET_NAME')\n",
    "LOG_DATA     = config.get('S3','LOG_DATA')\n",
    "LOG_JSONPATH = config.get('S3','LOG_JSONPATH')\n",
    "SONG_DATA    = config.get('S3','SONG_DATA')\n",
    "\n",
    "IAM_ROLE_NAME  = config.get('IAM','IAM_ROLE_NAME')\n",
    "S3_ACCESS_ROLE_ARN = config.get('IAM','S3_ACCESS_ROLE_ARN') \n",
    "\n",
    "\n",
    "HOST        = config.get('CLUSTER','HOST')\n",
    "DB_NAME     = config.get('CLUSTER','DB_NAME')\n",
    "DB_USER     = config.get('CLUSTER','DB_USER')\n",
    "DB_PASSWORD = config.get('CLUSTER','DB_PASSWORD')\n",
    "DB_PORT     = config.get('CLUSTER','DB_PORT')"
   ]
  },
  {
   "cell_type": "markdown",
   "id": "b3b8ff7c",
   "metadata": {},
   "source": [
    "### 2. Create clients"
   ]
  },
  {
   "cell_type": "code",
   "execution_count": 24,
   "id": "6959dca0",
   "metadata": {},
   "outputs": [],
   "source": [
    "ec2_client = boto3.client('ec2',\n",
    "                       region_name=\"us-east-1\"\n",
    "                    )\n",
    "\n",
    "s3_client = boto3.client('s3',\n",
    "                       region_name=\"us-east-1\"\n",
    "                   )\n",
    "\n",
    "# Create S3 resource\n",
    "s3_resource = boto3.resource('s3')\n",
    "\n",
    "\n",
    "iam_client = boto3.client('iam',\n",
    "                       region_name='us-east-1'\n",
    "                     \n",
    "                  )\n",
    "\n",
    "redshift_client = boto3.client('redshift',\n",
    "                       region_name=\"us-east-1\"\n",
    "                       )"
   ]
  },
  {
   "cell_type": "markdown",
   "id": "206ea9fd",
   "metadata": {},
   "source": [
    "### 3. Create a Role which will be used by Redshift to access S3"
   ]
  },
  {
   "cell_type": "code",
   "execution_count": 25,
   "id": "70369baa",
   "metadata": {},
   "outputs": [
    {
     "name": "stdout",
     "output_type": "stream",
     "text": [
      "1.1 Creating a new IAM Role\n",
      "1.2 Attaching Policy\n",
      "1.3 Get the IAM role ARN\n",
      "arn:aws:iam::471112856147:role/RedshiftRole\n"
     ]
    }
   ],
   "source": [
    "assume_policy = json.dumps(\n",
    "            {'Statement': [{'Action': 'sts:AssumeRole',\n",
    "               'Effect': 'Allow',\n",
    "               'Principal': {'Service': 'redshift.amazonaws.com'}}],\n",
    "             'Version': '2012-10-17'})\n",
    "\n",
    "\n",
    "try:\n",
    "    print(\"1.1 Creating a new IAM Role\") \n",
    "    dwhRole = iam_client.create_role(\n",
    "        Path='/',\n",
    "        RoleName= 'RedshiftRole',\n",
    "        Description = \"Allows Redshift clusters to call AWS services on your behalf.\",\n",
    "        AssumeRolePolicyDocument=assume_policy\n",
    "    )    \n",
    "except Exception as e:\n",
    "    print(\"Error creating role\", e)\n",
    "    \n",
    "\n",
    "    \n",
    "try:\n",
    "    print(\"1.2 Attaching Policy\")\n",
    "    iam_client.attach_role_policy(RoleName='RedshiftRole',\n",
    "                       PolicyArn=\"arn:aws:iam::aws:policy/AmazonS3ReadOnlyAccess\"\n",
    "                      )['ResponseMetadata']['HTTPStatusCode']\n",
    "except Exception as e:\n",
    "    print(\"Error attaching policy\")\n",
    "\n",
    "    \n",
    "print(\"1.3 Get the IAM role ARN\")\n",
    "IAM_ROLE_ARN = iam_client.get_role(RoleName= 'RedshiftRole')['Role']['Arn']\n",
    "\n",
    "print(IAM_ROLE_ARN)"
   ]
  },
  {
   "cell_type": "markdown",
   "id": "8f838632",
   "metadata": {},
   "source": [
    "### 4. Create security group"
   ]
  },
  {
   "cell_type": "markdown",
   "id": "4a42293d",
   "metadata": {},
   "source": [
    "Provide your default VPC_ID"
   ]
  },
  {
   "cell_type": "code",
   "execution_count": 64,
   "id": "d9e176dc",
   "metadata": {},
   "outputs": [],
   "source": [
    "SG_GROUP_NAME = 'redshift-security-group'\n",
    "SG_GROUP_DESCRIPTION = 'Security group for Redshift cluster access'\n",
    "VPC_ID = \"vpc-111122222333344\"\n",
    "\n",
    "try:\n",
    "    response = ec2_client.create_security_group(\n",
    "         GroupName = SG_GROUP_NAME,\n",
    "         Description = SG_GROUP_DESCRIPTION,\n",
    "         VpcId = VPC_ID\n",
    "    )\n",
    "        \n",
    "    security_group_id = response['GroupId']\n",
    "    print('Created security group with ID:', security_group_id)\n",
    "except ClientError as e:\n",
    "    if e.response['Error']['Code'] == 'InvalidGroup.Duplicate':\n",
    "        # The security group already exists\n",
    "        response = ec2_client.describe_security_groups(\n",
    "                    Filters=[\n",
    "                        {'Name': 'group-name', 'Values': [SG_GROUP_NAME]},\n",
    "                        {'Name': 'vpc-id', 'Values': [VPC_ID]}\n",
    "                    ])\n",
    "        security_group_id = response['SecurityGroups'][0]['GroupId']\n",
    "        print(\"Security group already exists. Using existing security group with ID:\", security_group_id)\n",
    "    else:\n",
    "        # Handle other exceptions\n",
    "        print(\"Error creating security group:\", e)\n",
    "        "
   ]
  },
  {
   "cell_type": "markdown",
   "id": "d4f67bb4",
   "metadata": {},
   "source": [
    "### 5. Create inbound rule for security group"
   ]
  },
  {
   "cell_type": "code",
   "execution_count": 65,
   "id": "c4f0aa7e",
   "metadata": {},
   "outputs": [],
   "source": [
    "print(security_group_id)\n",
    "\n",
    "PORT = 5439\n",
    "IP_RANGE = '0.0.0.0/0'\n",
    "\n",
    "try:\n",
    "    # Add the inbund rule to the security group\n",
    "    response = ec2_client.authorize_security_group_ingress(\n",
    "        GroupId = security_group_id,\n",
    "        IpPermissions = [{\n",
    "            'IpProtocol': 'tcp',\n",
    "            'FromPort': PORT,\n",
    "            'ToPort': PORT,\n",
    "            'IpRanges': [{'CidrIp': IP_RANGE}]\n",
    "        }])\n",
    "    print('Inbound rule added to the security group.')\n",
    "except ClientError as e:\n",
    "    if e.response['Error']['Code'] == 'InvalidPermission.Duplicate':\n",
    "        print('Inbound rule already exists for the specified port and IP range.')\n",
    "    else:\n",
    "        print(\"Error adding inbound rule:\", e)"
   ]
  },
  {
   "cell_type": "markdown",
   "id": "c900d230",
   "metadata": {},
   "source": [
    "### 6. Check VPC and subnets"
   ]
  },
  {
   "cell_type": "code",
   "execution_count": 66,
   "id": "9549dcd1",
   "metadata": {},
   "outputs": [],
   "source": [
    "response = ec2_client.describe_subnets()\n",
    "response"
   ]
  },
  {
   "cell_type": "code",
   "execution_count": 67,
   "id": "4fabc06e",
   "metadata": {},
   "outputs": [],
   "source": [
    "for subnet in response['Subnets']:\n",
    "    print('subnet_id:', subnet['SubnetId'])\n",
    "    print('VPC_ID:', subnet['VpcId'])\n",
    "    print('CIDR Block:', subnet['CidrBlock'])\n",
    "    print('Availability Zone:', subnet['AvailabilityZone'])\n",
    "    print(\"###########\")"
   ]
  },
  {
   "cell_type": "markdown",
   "id": "ae91b399",
   "metadata": {},
   "source": [
    "### 7. Create a subnet group"
   ]
  },
  {
   "cell_type": "code",
   "execution_count": 68,
   "id": "05a486b3",
   "metadata": {},
   "outputs": [],
   "source": [
    "SUBNET_GROUP_NAME = 'redshift-subnet-group'\n",
    "\n",
    "SUBNET_IDs = ['subnet-0f8918c734a8baa2e',\n",
    "              'subnet-097b1642c7a093221',\n",
    "              'subnet-0345435ad6dd4d7b8',\n",
    "              'subnet-011b668868cdd0f37',\n",
    "              'subnet-09c39f23e9f72c359',\n",
    "              'subnet-03d875a6253a8dff2'\n",
    "             ]\n",
    "\n",
    "try:\n",
    "    response = redshift_client.create_cluster_subnet_group(\n",
    "        ClusterSubnetGroupName = SUBNET_GROUP_NAME,\n",
    "        Description = 'Subnet group for Redshift cluster',\n",
    "        SubnetIds = SUBNET_IDs   \n",
    "    )\n",
    "    print(SUBNET_GROUP_NAME)\n",
    "    print('Subnet group created successfully.')\n",
    "except ClientError as e:\n",
    "    if e.response['Error']['Code'] == 'ClusterSubnetGroupAlreadyExists':\n",
    "        print('Subnet group already exists. Skipping creation.')\n",
    "    else:\n",
    "        print('Error creating subnet group:', e)"
   ]
  },
  {
   "cell_type": "markdown",
   "id": "754b8aa1",
   "metadata": {},
   "source": [
    "### 8. Define Redshift cluster parameters"
   ]
  },
  {
   "cell_type": "markdown",
   "id": "47635d08",
   "metadata": {},
   "source": [
    "Provide MasterUsername, MasterUserPassword"
   ]
  },
  {
   "cell_type": "code",
   "execution_count": 31,
   "id": "c459b830",
   "metadata": {},
   "outputs": [],
   "source": [
    "cluster_parameters = {\n",
    "    'ClusterIdentifier': 'project-redshift-cluster',\n",
    "    'NodeType': 'dc2.large',\n",
    "    'MasterUsername': '',\n",
    "    'MasterUserPassword': '',\n",
    "    'DBName': 'sparkify_database',\n",
    "    'ClusterType': 'single-node',\n",
    "    'NumberOfNodes': 1,\n",
    "    'PubliclyAccessible': True,                 \n",
    "    'VpcSecurityGroupIds': [security_group_id],\n",
    "    'AvailabilityZone': 'us-east-1a',          \n",
    "    'Port': 5439,\n",
    "    'ClusterSubnetGroupName': SUBNET_GROUP_NAME\n",
    "}"
   ]
  },
  {
   "cell_type": "markdown",
   "id": "2a3bc0a4",
   "metadata": {},
   "source": [
    "### 9. Create Redshift cluster"
   ]
  },
  {
   "cell_type": "code",
   "execution_count": 69,
   "id": "38fe1fe4",
   "metadata": {},
   "outputs": [],
   "source": [
    "try:\n",
    "    response = redshift_client.create_cluster(**cluster_parameters)\n",
    "    print('Redshift cluster creation initiated.')\n",
    "except redshift_client.exceptions.ClusterAlreadyExistsFault:\n",
    "    print('Cluster already exists. Skipping cluster creation.')\n",
    "    \n",
    "\n",
    "redshift_client.get_waiter('cluster_available').wait(\n",
    "    ClusterIdentifier = cluster_parameters['ClusterIdentifier']\n",
    ")\n",
    "\n",
    "print('Redshift cluster is now available')"
   ]
  },
  {
   "cell_type": "markdown",
   "id": "6d92a3d5",
   "metadata": {},
   "source": [
    "### 10. Describe Redshift cluster"
   ]
  },
  {
   "cell_type": "code",
   "execution_count": 70,
   "id": "e1bd3d57",
   "metadata": {},
   "outputs": [],
   "source": [
    "cluster_info = redshift_client.describe_clusters(ClusterIdentifier=cluster_parameters['ClusterIdentifier'])['Clusters'][0]\n",
    "cluster_info"
   ]
  },
  {
   "cell_type": "markdown",
   "id": "e941f25f",
   "metadata": {},
   "source": [
    "### 11. Associate Role with cluster"
   ]
  },
  {
   "cell_type": "code",
   "execution_count": 71,
   "id": "6001079a",
   "metadata": {},
   "outputs": [],
   "source": [
    "# DWH_CLUSTER_NAME = 'project-redshift-cluster'\n",
    "\n",
    "redshift_client.modify_cluster_iam_roles(\n",
    "    ClusterIdentifier = cluster_parameters['ClusterIdentifier'],\n",
    "    AddIamRoles = [IAM_ROLE_ARN]\n",
    ")\n",
    "\n",
    "print(\"This role will be granted permissions to access S3 within the cluster\")"
   ]
  },
  {
   "cell_type": "markdown",
   "id": "fe2089b5",
   "metadata": {},
   "source": [
    "### 12. Connect to Redshift cluster"
   ]
  },
  {
   "cell_type": "markdown",
   "id": "0a3524a2",
   "metadata": {},
   "source": [
    "Provide your username, password and db name"
   ]
  },
  {
   "cell_type": "code",
   "execution_count": 72,
   "id": "f53485b3",
   "metadata": {},
   "outputs": [],
   "source": [
    "redshift_endpoint = cluster_info['Endpoint']['Address']\n",
    "redshift_port = 5439\n",
    "redshift_user = ''\n",
    "redshift_password = ''\n",
    "redshift_database = 'sparkify_database'\n",
    "redshift_host=cluster_info['Endpoint']['Address']\n",
    "\n",
    "try:\n",
    "    conn = psycopg2.connect(host=redshift_host,\n",
    "                            port=redshift_port,\n",
    "                            database=redshift_database,\n",
    "                            user=redshift_user,\n",
    "                            password=redshift_password                           \n",
    "                           )\n",
    "    print(\"Successfully connected to Redshift cluster\")\n",
    "except psycopg2.Error as e:\n",
    "    print(\"Error connecting to Redshift cluster,\", e)"
   ]
  },
  {
   "cell_type": "code",
   "execution_count": 36,
   "id": "6cf4915e",
   "metadata": {},
   "outputs": [],
   "source": [
    "cursor = conn.cursor()\n",
    "conn.set_session(autocommit = True)"
   ]
  },
  {
   "cell_type": "markdown",
   "id": "4b98deb0",
   "metadata": {},
   "source": [
    "### 13. Create Bucket for the project"
   ]
  },
  {
   "cell_type": "code",
   "execution_count": null,
   "id": "542f0b0a",
   "metadata": {},
   "outputs": [],
   "source": [
    "project_bucket = s3_client.create_bucket(Bucket = 'dwhproject282192')"
   ]
  },
  {
   "cell_type": "markdown",
   "id": "0f2723a1",
   "metadata": {},
   "source": [
    "#### Extract data from udacity-dend Bucket"
   ]
  },
  {
   "cell_type": "markdown",
   "id": "e961008b",
   "metadata": {},
   "source": [
    "#### Get log metadata"
   ]
  },
  {
   "cell_type": "code",
   "execution_count": null,
   "id": "a517fc6e",
   "metadata": {},
   "outputs": [],
   "source": [
    "# I used aws cli to copy the files between the buckets\n",
    "# aws s3 cp s3://udacity-dend/log_json_path.json s3://dwhproject282192/"
   ]
  },
  {
   "cell_type": "markdown",
   "id": "f5a14f08",
   "metadata": {},
   "source": [
    "#### Get Log data"
   ]
  },
  {
   "cell_type": "code",
   "execution_count": null,
   "id": "bf9c615d",
   "metadata": {},
   "outputs": [],
   "source": [
    "# I used aws cli to copy the files between the buckets\n",
    "# aws s3 sync s3://udacity-dend/log_data s3://dwhproject282192/log_data/"
   ]
  },
  {
   "cell_type": "markdown",
   "id": "91c9e62f",
   "metadata": {},
   "source": [
    "#### Get song data"
   ]
  },
  {
   "cell_type": "code",
   "execution_count": null,
   "id": "19ce6675",
   "metadata": {},
   "outputs": [],
   "source": [
    "# I used aws cli to copy the files between the buckets\n",
    "# aws s3 sync s3://udacity-dend/song_data s3://dwhproject282192/song_data/"
   ]
  },
  {
   "cell_type": "markdown",
   "id": "0a808a6c",
   "metadata": {},
   "source": [
    "### 14. Run python scripts"
   ]
  },
  {
   "cell_type": "code",
   "execution_count": 73,
   "id": "994b80f3",
   "metadata": {},
   "outputs": [],
   "source": [
    "%run create_tables.py"
   ]
  },
  {
   "cell_type": "code",
   "execution_count": 74,
   "id": "d49f8804",
   "metadata": {},
   "outputs": [],
   "source": [
    "%run etl.py"
   ]
  },
  {
   "cell_type": "markdown",
   "id": "8fda519e",
   "metadata": {},
   "source": [
    "### 15. Test tables"
   ]
  },
  {
   "cell_type": "code",
   "execution_count": 75,
   "id": "c0f38d57",
   "metadata": {},
   "outputs": [],
   "source": [
    "# connect to database\n",
    "\n",
    "conn_string=f\"postgresql://{redshift_user}:{redshift_password}@{redshift_host}:{redshift_port}/{redshift_database}\"\n",
    "%sql $conn_string"
   ]
  },
  {
   "cell_type": "markdown",
   "id": "b2f34cd4",
   "metadata": {},
   "source": [
    "Check staging tables"
   ]
  },
  {
   "cell_type": "code",
   "execution_count": 76,
   "id": "409c91cc",
   "metadata": {},
   "outputs": [],
   "source": [
    "%%time\n",
    "%%sql\n",
    "SELECT COUNT(*) as total_rows\n",
    "FROM public.staging_log_data;"
   ]
  },
  {
   "cell_type": "code",
   "execution_count": 77,
   "id": "daa67b11",
   "metadata": {},
   "outputs": [],
   "source": [
    "%%time\n",
    "%%sql\n",
    "SELECT COUNT(*) as total_rows\n",
    "FROM public.staging_songs_data;"
   ]
  },
  {
   "cell_type": "markdown",
   "id": "8a4bf3a3",
   "metadata": {},
   "source": [
    "Check Analysis tables"
   ]
  },
  {
   "cell_type": "code",
   "execution_count": 78,
   "id": "2acd3f2d",
   "metadata": {},
   "outputs": [],
   "source": [
    "%%time\n",
    "%%sql\n",
    "SELECT COUNT(*) as total\n",
    "FROM users;"
   ]
  },
  {
   "cell_type": "code",
   "execution_count": 79,
   "id": "70e4615d",
   "metadata": {},
   "outputs": [],
   "source": [
    "%%time\n",
    "%%sql\n",
    "SELECT COUNT(*) as total\n",
    "FROM songs;"
   ]
  },
  {
   "cell_type": "code",
   "execution_count": 80,
   "id": "f9d09ed7",
   "metadata": {},
   "outputs": [],
   "source": [
    "%%time\n",
    "%%sql\n",
    "SELECT COUNT(*) as total\n",
    "FROM artists;"
   ]
  },
  {
   "cell_type": "code",
   "execution_count": 81,
   "id": "dfe77d8e",
   "metadata": {},
   "outputs": [],
   "source": [
    "%%time\n",
    "%%sql\n",
    "SELECT COUNT(*) as total\n",
    "FROM time;"
   ]
  },
  {
   "cell_type": "code",
   "execution_count": null,
   "id": "e8080da6",
   "metadata": {},
   "outputs": [],
   "source": [
    "%%time\n",
    "%%sql\n",
    "SELECT COUNT(*)\n",
    "FROM songplays;"
   ]
  },
  {
   "cell_type": "markdown",
   "id": "d708bcdb",
   "metadata": {},
   "source": [
    "### 16. Clean-up"
   ]
  },
  {
   "cell_type": "code",
   "execution_count": 88,
   "id": "0d14141c",
   "metadata": {},
   "outputs": [],
   "source": [
    "# Delete cluster\n",
    "redshift_client.delete_cluster(\n",
    "                                ClusterIdentifier=cluster_parameters['ClusterIdentifier'],\n",
    "                                SkipFinalClusterSnapshot=True)\n",
    "print('Redshift cluster deletion initiated.')\n",
    "\n",
    "redshift_client.get_waiter('cluster_deleted').wait(ClusterIdentifier=cluster_parameters['ClusterIdentifier'])\n",
    "print(\"Successfully deleted cluster\")"
   ]
  },
  {
   "cell_type": "code",
   "execution_count": 89,
   "id": "a719ee80",
   "metadata": {},
   "outputs": [],
   "source": [
    "# Delete subnet group\n",
    "redshift_client.delete_cluster_subnet_group(ClusterSubnetGroupName=SUBNET_GROUP_NAME)"
   ]
  },
  {
   "cell_type": "code",
   "execution_count": 90,
   "id": "dd01fac9",
   "metadata": {},
   "outputs": [],
   "source": [
    "# Delete security group\n",
    "ec2_client.delete_security_group(GroupId=security_group_id)"
   ]
  },
  {
   "cell_type": "code",
   "execution_count": 91,
   "id": "23533ba5",
   "metadata": {},
   "outputs": [],
   "source": [
    "# Empty the project bucket\n",
    "bucket = s3_resource.Bucket('dwhproject282192')\n",
    "bucket.objects.delete()"
   ]
  },
  {
   "cell_type": "code",
   "execution_count": 92,
   "id": "d2d5a8a7",
   "metadata": {},
   "outputs": [],
   "source": [
    "# Delete the bucket\n",
    "bucket.delete()"
   ]
  },
  {
   "cell_type": "code",
   "execution_count": 93,
   "id": "fc68b253",
   "metadata": {},
   "outputs": [],
   "source": [
    "# Detach and delete role\n",
    "iam_client.detach_role_policy(RoleName='RedshiftRole', PolicyArn='arn:aws:iam::aws:policy/AmazonS3ReadOnlyAccess')\n",
    "iam_client.delete_role(RoleName='RedshiftRole')"
   ]
  },
  {
   "cell_type": "code",
   "execution_count": null,
   "id": "080a80ec",
   "metadata": {},
   "outputs": [],
   "source": []
  }
 ],
 "metadata": {
  "kernelspec": {
   "display_name": "Python 3 (ipykernel)",
   "language": "python",
   "name": "python3"
  },
  "language_info": {
   "codemirror_mode": {
    "name": "ipython",
    "version": 3
   },
   "file_extension": ".py",
   "mimetype": "text/x-python",
   "name": "python",
   "nbconvert_exporter": "python",
   "pygments_lexer": "ipython3",
   "version": "3.11.5"
  }
 },
 "nbformat": 4,
 "nbformat_minor": 5
}
